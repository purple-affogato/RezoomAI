{
  "nbformat": 4,
  "nbformat_minor": 0,
  "metadata": {
    "colab": {
      "provenance": [],
      "toc_visible": true,
      "include_colab_link": true
    },
    "kernelspec": {
      "name": "python3",
      "display_name": "Python 3"
    },
    "language_info": {
      "name": "python"
    }
  },
  "cells": [
    {
      "cell_type": "markdown",
      "metadata": {
        "id": "view-in-github",
        "colab_type": "text"
      },
      "source": [
        "<a href=\"https://colab.research.google.com/github/purple-affogato/RezoomAI/blob/main/Copy_of_ACM_AIML_Series_Demo1.ipynb\" target=\"_parent\"><img src=\"https://colab.research.google.com/assets/colab-badge.svg\" alt=\"Open In Colab\"/></a>"
      ]
    },
    {
      "cell_type": "markdown",
      "source": [
        "# ML Workshop 1\n",
        "\n",
        "Welcome to ACM's Data Analysis & Engineering demo! Follow along with the prompts. :)"
      ],
      "metadata": {
        "id": "wHRRWd9vMq4L"
      }
    },
    {
      "cell_type": "markdown",
      "source": [
        "# Imports\n",
        "\n",
        "What's nice about Google Colab is that most of the necessary packages are already downloaded, so no need to worry about managing packages and virtual environments.\n",
        "\n",
        "Libraries we'll be using:\n",
        "- pandas\n",
        "- matplotlib.pyplot\n",
        "- yahoo finance (yfinance)"
      ],
      "metadata": {
        "id": "6bzBuLdeE9nE"
      }
    },
    {
      "cell_type": "code",
      "execution_count": null,
      "metadata": {
        "id": "FM2yUndeL7xs"
      },
      "outputs": [],
      "source": [
        "import pandas as pd\n",
        "import matplotlib.pyplot as plt\n",
        "import datetime as dt\n",
        "import seaborn as sns\n",
        "import numpy as np"
      ]
    },
    {
      "cell_type": "markdown",
      "source": [
        "# Loading Stock Data\n",
        "\n",
        "We'll be using historial stock prices of Apple (AAPL) for this demo! Download \"aapl_10y.csv\" from [here](https://drive.google.com/file/d/1346lULourghgUn0dEvVbG6nfOYPCAQpk/view?usp=drive_link)."
      ],
      "metadata": {
        "id": "KQLbtpQVFYxA"
      }
    },
    {
      "cell_type": "code",
      "source": [
        "# start & end dates of our data\n",
        "start = dt.date(2015, 1, 1)\n",
        "end = dt.date(2025, 1, 1)"
      ],
      "metadata": {
        "id": "SOBJKZ04MOgt"
      },
      "execution_count": null,
      "outputs": []
    },
    {
      "cell_type": "code",
      "source": [
        "# read in csv"
      ],
      "metadata": {
        "id": "5hAA3aApMXH9"
      },
      "execution_count": null,
      "outputs": []
    },
    {
      "cell_type": "code",
      "source": [
        "# look at the dataframe!"
      ],
      "metadata": {
        "id": "v-p0Htp5J8gg"
      },
      "execution_count": null,
      "outputs": []
    },
    {
      "cell_type": "markdown",
      "source": [
        "# Basic Functions\n",
        "\n",
        "- info\n",
        "- describe\n",
        "- head\n",
        "- tail"
      ],
      "metadata": {
        "id": "P3h7nMqkGFsJ"
      }
    },
    {
      "cell_type": "markdown",
      "source": [
        "##Getting a Summary of Your Data"
      ],
      "metadata": {
        "id": "r7rjLOad0F6b"
      }
    },
    {
      "cell_type": "markdown",
      "source": [
        "How can we see a summary of our dataset?"
      ],
      "metadata": {
        "id": "HiA5odx8pXfF"
      }
    },
    {
      "cell_type": "code",
      "source": [
        "# i"
      ],
      "metadata": {
        "id": "s-DmsAuBNFT7"
      },
      "execution_count": null,
      "outputs": []
    },
    {
      "cell_type": "markdown",
      "source": [
        "How can we see the descriptive stats of our dataset?"
      ],
      "metadata": {
        "id": "bOLkisTDpdES"
      }
    },
    {
      "cell_type": "code",
      "source": [
        "# d"
      ],
      "metadata": {
        "id": "26T6ymNpNUPZ"
      },
      "execution_count": null,
      "outputs": []
    },
    {
      "cell_type": "markdown",
      "source": [
        "Get the first five entries of your dataframe."
      ],
      "metadata": {
        "id": "iW-Ap5JppwNY"
      }
    },
    {
      "cell_type": "code",
      "source": [
        "# h"
      ],
      "metadata": {
        "id": "oIEmYCl-rQrc"
      },
      "execution_count": null,
      "outputs": []
    },
    {
      "cell_type": "markdown",
      "source": [
        "Get the last five entries of your dataframe."
      ],
      "metadata": {
        "id": "lJhdY8Vbp265"
      }
    },
    {
      "cell_type": "code",
      "source": [
        "# t"
      ],
      "metadata": {
        "id": "wkCg79CmpU-f"
      },
      "execution_count": null,
      "outputs": []
    },
    {
      "cell_type": "markdown",
      "source": [
        "We can easily make boxplots in pandas as well for each feature."
      ],
      "metadata": {
        "id": "J8cnubIpntCN"
      }
    },
    {
      "cell_type": "code",
      "source": [
        "# box"
      ],
      "metadata": {
        "id": "cscB6TVknyLC"
      },
      "execution_count": null,
      "outputs": []
    },
    {
      "cell_type": "markdown",
      "source": [
        "## Accessing Features and Entries"
      ],
      "metadata": {
        "id": "y1yD16wgz_mK"
      }
    },
    {
      "cell_type": "code",
      "source": [
        "# access a feature (column)\n"
      ],
      "metadata": {
        "id": "dCRDwcb60WFu"
      },
      "execution_count": null,
      "outputs": []
    },
    {
      "cell_type": "code",
      "source": [
        "# let's try another feature!"
      ],
      "metadata": {
        "id": "kF4bNedU0c9k"
      },
      "execution_count": null,
      "outputs": []
    },
    {
      "cell_type": "code",
      "source": [
        "# access an entry (row) using integer indices"
      ],
      "metadata": {
        "id": "onf2wYVu0je6"
      },
      "execution_count": null,
      "outputs": []
    },
    {
      "cell_type": "code",
      "source": [
        "# you can also put a range to get entries"
      ],
      "metadata": {
        "id": "33jgslDU003s"
      },
      "execution_count": null,
      "outputs": []
    },
    {
      "cell_type": "markdown",
      "source": [
        "#Resampling\n",
        "\n",
        "Right now, our dataset has entries for only dates when the stock market is open (excludes weekends and holidays). To make our data more smooth, we want to **impute** rows and deal the resulting NaN values."
      ],
      "metadata": {
        "id": "6_6n1eAHKWZC"
      }
    },
    {
      "cell_type": "markdown",
      "source": [
        "## Cast Index into Datetime"
      ],
      "metadata": {
        "id": "U5-0MLm6KROR"
      }
    },
    {
      "cell_type": "code",
      "source": [
        "# first cast the column into datetime"
      ],
      "metadata": {
        "id": "_ZiKBBphKPv0"
      },
      "execution_count": null,
      "outputs": []
    },
    {
      "cell_type": "code",
      "source": [
        "# set aapl with updated datetime column"
      ],
      "metadata": {
        "id": "w-JsAL4HKnZK"
      },
      "execution_count": null,
      "outputs": []
    },
    {
      "cell_type": "markdown",
      "source": [
        "Set the Date column to the index."
      ],
      "metadata": {
        "id": "22BgCQHEK_07"
      }
    },
    {
      "cell_type": "code",
      "source": [
        "# set index to Date"
      ],
      "metadata": {
        "id": "hjAgZp4XK1cx"
      },
      "execution_count": null,
      "outputs": []
    },
    {
      "cell_type": "code",
      "source": [
        "# double check your dataframe"
      ],
      "metadata": {
        "id": "U8LIXgMGK9x-"
      },
      "execution_count": null,
      "outputs": []
    },
    {
      "cell_type": "markdown",
      "source": [
        "## Imputing\n",
        "\n",
        "First, let's only consider the \"Close\" feature. For clarification, \"Close\" refers to the **closing price** of a stock at the end of a trading day."
      ],
      "metadata": {
        "id": "40RCmO4Oul6H"
      }
    },
    {
      "cell_type": "markdown",
      "source": [
        "**Reindex** your dataset to add in missing dates with NaN values."
      ],
      "metadata": {
        "id": "50kvLMbC5vwZ"
      }
    },
    {
      "cell_type": "code",
      "source": [
        "# reindex"
      ],
      "metadata": {
        "id": "m18N_MrouoNK"
      },
      "execution_count": null,
      "outputs": []
    },
    {
      "cell_type": "code",
      "source": [
        "# double check dataframe"
      ],
      "metadata": {
        "id": "wS5p1vtN5qnV"
      },
      "execution_count": null,
      "outputs": []
    },
    {
      "cell_type": "markdown",
      "source": [
        "## Dealing with NaN Values\n",
        "\n",
        "Two options:\n",
        "- dropping\n",
        "- interpolate"
      ],
      "metadata": {
        "id": "_VY3TnsxJHU-"
      }
    },
    {
      "cell_type": "markdown",
      "source": [
        "Dropping NaN values is very simple with pandas."
      ],
      "metadata": {
        "id": "HdvqD2IKQ53v"
      }
    },
    {
      "cell_type": "code",
      "source": [
        "# dropping NaN values"
      ],
      "metadata": {
        "id": "QgeWYpRKNoyR"
      },
      "execution_count": null,
      "outputs": []
    },
    {
      "cell_type": "markdown",
      "source": [
        "However, dropping NaN values is only optimal when the NaN entries we drop are insignificant. For this case, it's better that we **impute** values. For this demo, we'll be using **spline interpolation** to fill in NaN values. Feel free to look up how it works after the workshop!"
      ],
      "metadata": {
        "id": "wDhWEye3RA14"
      }
    },
    {
      "cell_type": "code",
      "source": [
        "# create a copy of reindexed dataframe\n",
        "# interpolate\n",
        "# show the new dataframe"
      ],
      "metadata": {
        "id": "mKEY2KQnmtPZ"
      },
      "execution_count": null,
      "outputs": []
    },
    {
      "cell_type": "markdown",
      "source": [
        "Read the [pandas interpolate documentation](https://pandas.pydata.org/docs/reference/api/pandas.DataFrame.interpolate.html)."
      ],
      "metadata": {
        "id": "oFjI6OdWMeMb"
      }
    },
    {
      "cell_type": "markdown",
      "source": [
        "## Visualizing Data\n",
        "\n",
        "After resampling our data, we can get a good sense of it by visualizing it. This is very easy to do in Python using matplotlib!"
      ],
      "metadata": {
        "id": "QEj2UTlhqrS0"
      }
    },
    {
      "cell_type": "code",
      "source": [
        "# make a plot of our interpolated data with a title and subtitles"
      ],
      "metadata": {
        "id": "BiFYqYEMq0rk"
      },
      "execution_count": null,
      "outputs": []
    },
    {
      "cell_type": "markdown",
      "source": [
        "## Groupby using Datetime Index\n",
        "\n",
        "Right now, our graph is looking very bumpy and it has a lot of fine data. To make it smoother, we can use **groupby** to make each data entry a month apart."
      ],
      "metadata": {
        "id": "9ldfrnNgQD_x"
      }
    },
    {
      "cell_type": "code",
      "source": [
        "# make our datetime index monthly"
      ],
      "metadata": {
        "id": "b6c7U2lEOaAh"
      },
      "execution_count": null,
      "outputs": []
    },
    {
      "cell_type": "code",
      "source": [
        "# check the dataframe!"
      ],
      "metadata": {
        "id": "DsGS2b67Opoy"
      },
      "execution_count": null,
      "outputs": []
    },
    {
      "cell_type": "markdown",
      "source": [
        "[Documentation of pandas Grouper](https://pandas.pydata.org/docs/reference/api/pandas.Grouper.html#pandas.Grouper)\n",
        "\n",
        "[Frequencies for Groupers](https://pandas.pydata.org/pandas-docs/stable/user_guide/timeseries.html#offset-aliases)\n",
        "\n",
        "MS means \"month start\". From the link above, let's try to **group by year**."
      ],
      "metadata": {
        "id": "RPXciosybLsj"
      }
    },
    {
      "cell_type": "code",
      "source": [
        "# make our datetime index yearly"
      ],
      "metadata": {
        "id": "U_ObQG2PduAz"
      },
      "execution_count": null,
      "outputs": []
    },
    {
      "cell_type": "code",
      "source": [
        "# check the dataframe"
      ],
      "metadata": {
        "id": "VNy0poOpd0KY"
      },
      "execution_count": null,
      "outputs": []
    },
    {
      "cell_type": "markdown",
      "source": [
        "Let's compare our daily and monthly data by graphing the two different features."
      ],
      "metadata": {
        "id": "3t1BklPIPEHD"
      }
    },
    {
      "cell_type": "code",
      "source": [
        "# graph two features on one plot to compare"
      ],
      "metadata": {
        "id": "n0sAsr_nPR1E"
      },
      "execution_count": null,
      "outputs": []
    },
    {
      "cell_type": "markdown",
      "source": [
        "#Correlation\n",
        "\n",
        "We can gain a better understanding of our data by testing correlation against other features and previous entries (autocorrelation). This can help can decide what kinds of models we can fit our data to."
      ],
      "metadata": {
        "id": "m4nbeE8dPK8i"
      }
    },
    {
      "cell_type": "markdown",
      "source": [
        "##Merging Dataframes\n",
        "\n",
        "Finding if our data correlates with other sources of data can help us make better decisions on how to use our data and build our models.\n",
        "\n",
        "For example, the way our dataframe is right now, we can only using time series ML algorithms. Adding other features to the dataframe opens the possibility of using other algorithms and maybe creating more accurate models.\n",
        "\n",
        "In this example, we'll be using monthly GDP to compare with AAPL's stock prices. To do so, we need to first [download the data](https://drive.google.com/drive/folders/1xattZsDEh-ZMBNX794Ib5-7Vqvqtwv-J?usp=sharing) and merge it with our current dataframe.\n",
        "\n",
        "First, we need to read in our GDP data and cast its index into datetime64."
      ],
      "metadata": {
        "id": "15pnDkfzONUf"
      }
    },
    {
      "cell_type": "code",
      "source": [
        "# read in GDP.csv"
      ],
      "metadata": {
        "id": "X6pRdMHKLjdO"
      },
      "execution_count": null,
      "outputs": []
    },
    {
      "cell_type": "code",
      "source": [
        "# check the dataframe"
      ],
      "metadata": {
        "id": "Gpq4yPfqNHvX"
      },
      "execution_count": null,
      "outputs": []
    },
    {
      "cell_type": "code",
      "source": [
        "# check dataframe's info"
      ],
      "metadata": {
        "id": "3bs5sbtyNJ6I"
      },
      "execution_count": null,
      "outputs": []
    },
    {
      "cell_type": "code",
      "source": [
        "# cast date column to datetime"
      ],
      "metadata": {
        "id": "b8orLmFpOIH3"
      },
      "execution_count": null,
      "outputs": []
    },
    {
      "cell_type": "code",
      "source": [
        "# set the index"
      ],
      "metadata": {
        "id": "NQ_WohAGN1Vg"
      },
      "execution_count": null,
      "outputs": []
    },
    {
      "cell_type": "code",
      "source": [
        "# double check the dataframe"
      ],
      "metadata": {
        "id": "EDitbGOnOdX7"
      },
      "execution_count": null,
      "outputs": []
    },
    {
      "cell_type": "markdown",
      "source": [
        "Now that our two dataframes have the same index, we can merge them."
      ],
      "metadata": {
        "id": "4BoYCpJEOvm7"
      }
    },
    {
      "cell_type": "code",
      "source": [
        "# merge (inner join)"
      ],
      "metadata": {
        "id": "3YKUjKrrLnnP"
      },
      "execution_count": null,
      "outputs": []
    },
    {
      "cell_type": "markdown",
      "source": [
        "Read the [pandas merge documentation](https://pandas.pydata.org/docs/reference/api/pandas.merge.html#pandas.merge).\n",
        "\n",
        "SQL Joins reference:\n",
        "\n",
        "![SQL joins](https://knowthecode.io/wp-content/uploads/2016/10/sql-joins-diagram.png)"
      ],
      "metadata": {
        "id": "bcWVO_LJQx5Y"
      }
    },
    {
      "cell_type": "code",
      "source": [
        "# check the dataframe"
      ],
      "metadata": {
        "id": "rsD1wIfXPrlG"
      },
      "execution_count": null,
      "outputs": []
    },
    {
      "cell_type": "markdown",
      "source": [
        "##Testing for Correlation\n",
        "\n",
        "First, let's test if there's any direct correlation between AAPL stock prices and GDP.\n",
        "\n",
        "To do so, we can make pairplots and calculate the direct correlation coefficient."
      ],
      "metadata": {
        "id": "2U6udzZlcO-u"
      }
    },
    {
      "cell_type": "code",
      "source": [
        "# make a pairplot"
      ],
      "metadata": {
        "id": "pJw4qnDCcOSD"
      },
      "execution_count": null,
      "outputs": []
    },
    {
      "cell_type": "code",
      "source": [
        "# use numpy to get the direct correlation coefficient"
      ],
      "metadata": {
        "id": "e2RFIHB4pwIi"
      },
      "execution_count": null,
      "outputs": []
    },
    {
      "cell_type": "markdown",
      "source": [
        "Does it seem that AAPL stock prices and GDP have correlation?"
      ],
      "metadata": {
        "id": "A-v99rC-qTZ2"
      }
    },
    {
      "cell_type": "markdown",
      "source": [
        "##Spurious Correlation\n",
        "\n",
        "However, correlation is not causation! To test for **true** correlation we can see if the differences become data entries have correlation. If they don't, then what we saw earlier is just **spurious correlation**."
      ],
      "metadata": {
        "id": "rMeEUoYUc569"
      }
    },
    {
      "cell_type": "code",
      "source": [
        "# get the differences"
      ],
      "metadata": {
        "id": "f5W_QIJNuwy4"
      },
      "execution_count": null,
      "outputs": []
    },
    {
      "cell_type": "code",
      "source": [
        "# check the dataframe!"
      ],
      "metadata": {
        "id": "l__QHpC1vwap"
      },
      "execution_count": null,
      "outputs": []
    },
    {
      "cell_type": "markdown",
      "source": [
        "Now let's test for correlation again!"
      ],
      "metadata": {
        "id": "joh1k-gxv0dX"
      }
    },
    {
      "cell_type": "code",
      "source": [
        "# make another pairplot!"
      ],
      "metadata": {
        "id": "fjLEcp2tvzca"
      },
      "execution_count": null,
      "outputs": []
    },
    {
      "cell_type": "code",
      "source": [
        "# use numpy to get the direct correlation coefficient"
      ],
      "metadata": {
        "id": "_8njTZEUw1Qf"
      },
      "execution_count": null,
      "outputs": []
    },
    {
      "cell_type": "markdown",
      "source": [
        "Now, is GDP **really** correlated with AAPL stock prices?"
      ],
      "metadata": {
        "id": "dlJU6IkhxUg_"
      }
    },
    {
      "cell_type": "markdown",
      "source": [
        "##Autocorrelation\n",
        "\n",
        "With time series data, we can test to see if data entries are correlated with data entries on previous dates/times.\n",
        "\n",
        "This is your homework, as we won't have enough time to cover this in the workshop!"
      ],
      "metadata": {
        "id": "QJIbSfW9nfhN"
      }
    }
  ]
}